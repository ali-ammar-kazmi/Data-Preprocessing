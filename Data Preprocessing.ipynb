{
 "cells": [
  {
   "cell_type": "markdown",
   "id": "54fccb4d",
   "metadata": {},
   "source": [
    "# Project : Data Preprocessing."
   ]
  },
  {
   "cell_type": "code",
   "execution_count": 1,
   "id": "89a1cdf2",
   "metadata": {},
   "outputs": [],
   "source": [
    "#importing some useful libraries.\n",
    "import pandas as pd\n",
    "import numpy as np\n",
    "from scipy import stats"
   ]
  },
  {
   "cell_type": "code",
   "execution_count": 2,
   "id": "45f61062",
   "metadata": {},
   "outputs": [],
   "source": [
    "#pd.read_csv is used to read a csv file and convert it into a DataFrame.\n",
    "dfsubscribers=pd.read_csv(\"SubscribersData.csv\")"
   ]
  },
  {
   "cell_type": "code",
   "execution_count": 3,
   "id": "0bb1a33a",
   "metadata": {},
   "outputs": [
    {
     "data": {
      "text/html": [
       "<div>\n",
       "<style scoped>\n",
       "    .dataframe tbody tr th:only-of-type {\n",
       "        vertical-align: middle;\n",
       "    }\n",
       "\n",
       "    .dataframe tbody tr th {\n",
       "        vertical-align: top;\n",
       "    }\n",
       "\n",
       "    .dataframe thead th {\n",
       "        text-align: right;\n",
       "    }\n",
       "</style>\n",
       "<table border=\"1\" class=\"dataframe\">\n",
       "  <thead>\n",
       "    <tr style=\"text-align: right;\">\n",
       "      <th></th>\n",
       "      <th>SubscriberIdentityNumber</th>\n",
       "      <th>Phone Number</th>\n",
       "      <th>Subscriber Name</th>\n",
       "      <th>SSN</th>\n",
       "      <th>Subscriber Age</th>\n",
       "      <th>State</th>\n",
       "      <th>Zip Code</th>\n",
       "      <th>SubscribedFromDate</th>\n",
       "      <th>Internet Service</th>\n",
       "      <th>SMS Service</th>\n",
       "      <th>Churn Status</th>\n",
       "    </tr>\n",
       "  </thead>\n",
       "  <tbody>\n",
       "    <tr>\n",
       "      <th>0</th>\n",
       "      <td>345278656547333</td>\n",
       "      <td>1654788999</td>\n",
       "      <td>Mike</td>\n",
       "      <td>214448881</td>\n",
       "      <td>25</td>\n",
       "      <td>Arizona</td>\n",
       "      <td>85005</td>\n",
       "      <td>1/12/2018</td>\n",
       "      <td>Active</td>\n",
       "      <td>Active</td>\n",
       "      <td>Active</td>\n",
       "    </tr>\n",
       "    <tr>\n",
       "      <th>1</th>\n",
       "      <td>345278666547334</td>\n",
       "      <td>1888777222</td>\n",
       "      <td>John</td>\n",
       "      <td>214448882</td>\n",
       "      <td>15</td>\n",
       "      <td>Florida</td>\n",
       "      <td>33130</td>\n",
       "      <td>12/12/2018</td>\n",
       "      <td>Active</td>\n",
       "      <td>Active</td>\n",
       "      <td>Active</td>\n",
       "    </tr>\n",
       "    <tr>\n",
       "      <th>2</th>\n",
       "      <td>345278676547335</td>\n",
       "      <td>1122765445</td>\n",
       "      <td>James</td>\n",
       "      <td>214448883</td>\n",
       "      <td>45</td>\n",
       "      <td>Newyork</td>\n",
       "      <td>10005</td>\n",
       "      <td>5/25/2018</td>\n",
       "      <td>Active</td>\n",
       "      <td>Active</td>\n",
       "      <td>Active</td>\n",
       "    </tr>\n",
       "    <tr>\n",
       "      <th>3</th>\n",
       "      <td>345278686547336</td>\n",
       "      <td>10</td>\n",
       "      <td>Robert</td>\n",
       "      <td>214448884</td>\n",
       "      <td>62</td>\n",
       "      <td>Newyork</td>\n",
       "      <td>10006</td>\n",
       "      <td>11/5/2017</td>\n",
       "      <td>InActive</td>\n",
       "      <td>NaN</td>\n",
       "      <td>Active</td>\n",
       "    </tr>\n",
       "    <tr>\n",
       "      <th>4</th>\n",
       "      <td>345278696547337</td>\n",
       "      <td>1590741891</td>\n",
       "      <td>Thomas</td>\n",
       "      <td>214448885</td>\n",
       "      <td>15</td>\n",
       "      <td>Newyork</td>\n",
       "      <td>10007</td>\n",
       "      <td>4/18/2017</td>\n",
       "      <td>Active</td>\n",
       "      <td>Active</td>\n",
       "      <td>NaN</td>\n",
       "    </tr>\n",
       "  </tbody>\n",
       "</table>\n",
       "</div>"
      ],
      "text/plain": [
       "   SubscriberIdentityNumber  Phone Number Subscriber Name        SSN  \\\n",
       "0           345278656547333    1654788999            Mike  214448881   \n",
       "1           345278666547334    1888777222            John  214448882   \n",
       "2           345278676547335    1122765445           James  214448883   \n",
       "3           345278686547336            10          Robert  214448884   \n",
       "4           345278696547337    1590741891          Thomas  214448885   \n",
       "\n",
       "   Subscriber Age    State  Zip Code SubscribedFromDate Internet Service  \\\n",
       "0              25  Arizona     85005          1/12/2018           Active   \n",
       "1              15  Florida     33130         12/12/2018           Active   \n",
       "2              45  Newyork     10005          5/25/2018           Active   \n",
       "3              62  Newyork     10006          11/5/2017         InActive   \n",
       "4              15  Newyork     10007          4/18/2017           Active   \n",
       "\n",
       "  SMS Service Churn Status  \n",
       "0      Active       Active  \n",
       "1      Active       Active  \n",
       "2      Active       Active  \n",
       "3         NaN       Active  \n",
       "4      Active          NaN  "
      ]
     },
     "execution_count": 3,
     "metadata": {},
     "output_type": "execute_result"
    }
   ],
   "source": [
    "#head() & tail() are used to view a Topmost and bottommost rows.\n",
    "dfsubscribers.head()"
   ]
  },
  {
   "cell_type": "code",
   "execution_count": 4,
   "id": "a54c5be4",
   "metadata": {},
   "outputs": [
    {
     "data": {
      "text/plain": [
       "(505, 11)"
      ]
     },
     "execution_count": 4,
     "metadata": {},
     "output_type": "execute_result"
    }
   ],
   "source": [
    "#return a shape of the DataFrame as a Tuple.\n",
    "dfsubscribers.shape"
   ]
  },
  {
   "cell_type": "code",
   "execution_count": 5,
   "id": "862c1f21",
   "metadata": {},
   "outputs": [
    {
     "data": {
      "text/plain": [
       "5555"
      ]
     },
     "execution_count": 5,
     "metadata": {},
     "output_type": "execute_result"
    }
   ],
   "source": [
    "#Return total no. of entities.\n",
    "dfsubscribers.size"
   ]
  },
  {
   "cell_type": "code",
   "execution_count": 6,
   "id": "ac3d7584",
   "metadata": {},
   "outputs": [
    {
     "name": "stdout",
     "output_type": "stream",
     "text": [
      "<class 'pandas.core.frame.DataFrame'>\n",
      "RangeIndex: 505 entries, 0 to 504\n",
      "Data columns (total 11 columns):\n",
      " #   Column                    Non-Null Count  Dtype \n",
      "---  ------                    --------------  ----- \n",
      " 0   SubscriberIdentityNumber  505 non-null    int64 \n",
      " 1   Phone Number              505 non-null    int64 \n",
      " 2   Subscriber Name           505 non-null    object\n",
      " 3   SSN                       505 non-null    int64 \n",
      " 4   Subscriber Age            505 non-null    int64 \n",
      " 5   State                     505 non-null    object\n",
      " 6   Zip Code                  505 non-null    int64 \n",
      " 7   SubscribedFromDate        505 non-null    object\n",
      " 8   Internet Service          505 non-null    object\n",
      " 9   SMS Service               501 non-null    object\n",
      " 10  Churn Status              499 non-null    object\n",
      "dtypes: int64(5), object(6)\n",
      "memory usage: 43.5+ KB\n"
     ]
    }
   ],
   "source": [
    "#Tells Us about a particular column with how many filled entities and of which Datatype.\n",
    "dfsubscribers.info()"
   ]
  },
  {
   "cell_type": "code",
   "execution_count": 7,
   "id": "09273f9a",
   "metadata": {},
   "outputs": [
    {
     "data": {
      "text/html": [
       "<div>\n",
       "<style scoped>\n",
       "    .dataframe tbody tr th:only-of-type {\n",
       "        vertical-align: middle;\n",
       "    }\n",
       "\n",
       "    .dataframe tbody tr th {\n",
       "        vertical-align: top;\n",
       "    }\n",
       "\n",
       "    .dataframe thead th {\n",
       "        text-align: right;\n",
       "    }\n",
       "</style>\n",
       "<table border=\"1\" class=\"dataframe\">\n",
       "  <thead>\n",
       "    <tr style=\"text-align: right;\">\n",
       "      <th></th>\n",
       "      <th>SubscriberIdentityNumber</th>\n",
       "      <th>Phone Number</th>\n",
       "      <th>SSN</th>\n",
       "      <th>Subscriber Age</th>\n",
       "      <th>Zip Code</th>\n",
       "    </tr>\n",
       "  </thead>\n",
       "  <tbody>\n",
       "    <tr>\n",
       "      <th>count</th>\n",
       "      <td>5.050000e+02</td>\n",
       "      <td>5.050000e+02</td>\n",
       "      <td>5.050000e+02</td>\n",
       "      <td>505.000000</td>\n",
       "      <td>505.000000</td>\n",
       "    </tr>\n",
       "    <tr>\n",
       "      <th>mean</th>\n",
       "      <td>3.452812e+14</td>\n",
       "      <td>1.513510e+09</td>\n",
       "      <td>2.144491e+08</td>\n",
       "      <td>38.572277</td>\n",
       "      <td>33571.891089</td>\n",
       "    </tr>\n",
       "    <tr>\n",
       "      <th>std</th>\n",
       "      <td>1.458411e+09</td>\n",
       "      <td>1.396134e+08</td>\n",
       "      <td>1.458410e+02</td>\n",
       "      <td>14.192946</td>\n",
       "      <td>17933.348377</td>\n",
       "    </tr>\n",
       "    <tr>\n",
       "      <th>min</th>\n",
       "      <td>3.452787e+14</td>\n",
       "      <td>1.000000e+01</td>\n",
       "      <td>2.144489e+08</td>\n",
       "      <td>15.000000</td>\n",
       "      <td>7039.000000</td>\n",
       "    </tr>\n",
       "    <tr>\n",
       "      <th>25%</th>\n",
       "      <td>3.452799e+14</td>\n",
       "      <td>1.526695e+09</td>\n",
       "      <td>2.144490e+08</td>\n",
       "      <td>30.000000</td>\n",
       "      <td>10017.000000</td>\n",
       "    </tr>\n",
       "    <tr>\n",
       "      <th>50%</th>\n",
       "      <td>3.452812e+14</td>\n",
       "      <td>1.526695e+09</td>\n",
       "      <td>2.144491e+08</td>\n",
       "      <td>36.000000</td>\n",
       "      <td>44115.000000</td>\n",
       "    </tr>\n",
       "    <tr>\n",
       "      <th>75%</th>\n",
       "      <td>3.452824e+14</td>\n",
       "      <td>1.526695e+09</td>\n",
       "      <td>2.144493e+08</td>\n",
       "      <td>44.000000</td>\n",
       "      <td>44140.000000</td>\n",
       "    </tr>\n",
       "    <tr>\n",
       "      <th>max</th>\n",
       "      <td>3.452836e+14</td>\n",
       "      <td>1.888777e+09</td>\n",
       "      <td>2.144494e+08</td>\n",
       "      <td>78.000000</td>\n",
       "      <td>85005.000000</td>\n",
       "    </tr>\n",
       "  </tbody>\n",
       "</table>\n",
       "</div>"
      ],
      "text/plain": [
       "       SubscriberIdentityNumber  Phone Number           SSN  Subscriber Age  \\\n",
       "count              5.050000e+02  5.050000e+02  5.050000e+02      505.000000   \n",
       "mean               3.452812e+14  1.513510e+09  2.144491e+08       38.572277   \n",
       "std                1.458411e+09  1.396134e+08  1.458410e+02       14.192946   \n",
       "min                3.452787e+14  1.000000e+01  2.144489e+08       15.000000   \n",
       "25%                3.452799e+14  1.526695e+09  2.144490e+08       30.000000   \n",
       "50%                3.452812e+14  1.526695e+09  2.144491e+08       36.000000   \n",
       "75%                3.452824e+14  1.526695e+09  2.144493e+08       44.000000   \n",
       "max                3.452836e+14  1.888777e+09  2.144494e+08       78.000000   \n",
       "\n",
       "           Zip Code  \n",
       "count    505.000000  \n",
       "mean   33571.891089  \n",
       "std    17933.348377  \n",
       "min     7039.000000  \n",
       "25%    10017.000000  \n",
       "50%    44115.000000  \n",
       "75%    44140.000000  \n",
       "max    85005.000000  "
      ]
     },
     "execution_count": 7,
     "metadata": {},
     "output_type": "execute_result"
    }
   ],
   "source": [
    "#Provides a statistical calculation on all the numerical values in a dataframe.\n",
    "dfsubscribers.describe()"
   ]
  },
  {
   "cell_type": "markdown",
   "id": "8b158670",
   "metadata": {},
   "source": [
    "# Missing Values---------"
   ]
  },
  {
   "cell_type": "code",
   "execution_count": 8,
   "id": "e5d466a5",
   "metadata": {},
   "outputs": [],
   "source": [
    "#df.replace() method is used to replace an empty spaces with value NaN.\n",
    "dfsubscribers.replace('', np.NaN, inplace=True)"
   ]
  },
  {
   "cell_type": "code",
   "execution_count": 9,
   "id": "1b83e511",
   "metadata": {},
   "outputs": [
    {
     "data": {
      "text/plain": [
       "SubscriberIdentityNumber    0\n",
       "Phone Number                0\n",
       "Subscriber Name             0\n",
       "SSN                         0\n",
       "Subscriber Age              0\n",
       "State                       0\n",
       "Zip Code                    0\n",
       "SubscribedFromDate          0\n",
       "Internet Service            0\n",
       "SMS Service                 4\n",
       "Churn Status                6\n",
       "dtype: int64"
      ]
     },
     "execution_count": 9,
     "metadata": {},
     "output_type": "execute_result"
    }
   ],
   "source": [
    "#returns a list of total N.A. or missing values in a particular Column.\n",
    "dfsubscribers.isna().sum()"
   ]
  },
  {
   "cell_type": "code",
   "execution_count": 10,
   "id": "1b79bd02",
   "metadata": {},
   "outputs": [],
   "source": [
    "#fillna() Method to fill a vacant spaces in a dataFrame.\n",
    "dfsubscribers[\"SMS Service\"].fillna(\"Active\", inplace=True)\n",
    "dfsubscribers[\"Churn Status\"].fillna(\"Active\", inplace=True)"
   ]
  },
  {
   "cell_type": "code",
   "execution_count": 11,
   "id": "2982140f",
   "metadata": {},
   "outputs": [
    {
     "data": {
      "text/plain": [
       "SubscriberIdentityNumber    0\n",
       "Phone Number                0\n",
       "Subscriber Name             0\n",
       "SSN                         0\n",
       "Subscriber Age              0\n",
       "State                       0\n",
       "Zip Code                    0\n",
       "SubscribedFromDate          0\n",
       "Internet Service            0\n",
       "SMS Service                 0\n",
       "Churn Status                0\n",
       "dtype: int64"
      ]
     },
     "execution_count": 11,
     "metadata": {},
     "output_type": "execute_result"
    }
   ],
   "source": [
    "#returns count of missing values in every column.\n",
    "dfsubscribers.isna().sum()"
   ]
  },
  {
   "cell_type": "code",
   "execution_count": 12,
   "id": "9d430f1d",
   "metadata": {},
   "outputs": [
    {
     "data": {
      "text/html": [
       "<div>\n",
       "<style scoped>\n",
       "    .dataframe tbody tr th:only-of-type {\n",
       "        vertical-align: middle;\n",
       "    }\n",
       "\n",
       "    .dataframe tbody tr th {\n",
       "        vertical-align: top;\n",
       "    }\n",
       "\n",
       "    .dataframe thead th {\n",
       "        text-align: right;\n",
       "    }\n",
       "</style>\n",
       "<table border=\"1\" class=\"dataframe\">\n",
       "  <thead>\n",
       "    <tr style=\"text-align: right;\">\n",
       "      <th></th>\n",
       "      <th>SubscriberIdentityNumber</th>\n",
       "      <th>Phone Number</th>\n",
       "      <th>Subscriber Name</th>\n",
       "      <th>SSN</th>\n",
       "      <th>Subscriber Age</th>\n",
       "      <th>State</th>\n",
       "      <th>Zip Code</th>\n",
       "      <th>SubscribedFromDate</th>\n",
       "      <th>Internet Service</th>\n",
       "      <th>SMS Service</th>\n",
       "      <th>Churn Status</th>\n",
       "    </tr>\n",
       "  </thead>\n",
       "  <tbody>\n",
       "    <tr>\n",
       "      <th>0</th>\n",
       "      <td>345278656547333</td>\n",
       "      <td>1654788999</td>\n",
       "      <td>Mike</td>\n",
       "      <td>214448881</td>\n",
       "      <td>25</td>\n",
       "      <td>Arizona</td>\n",
       "      <td>85005</td>\n",
       "      <td>1/12/2018</td>\n",
       "      <td>Active</td>\n",
       "      <td>Active</td>\n",
       "      <td>Active</td>\n",
       "    </tr>\n",
       "    <tr>\n",
       "      <th>1</th>\n",
       "      <td>345278666547334</td>\n",
       "      <td>1888777222</td>\n",
       "      <td>John</td>\n",
       "      <td>214448882</td>\n",
       "      <td>15</td>\n",
       "      <td>Florida</td>\n",
       "      <td>33130</td>\n",
       "      <td>12/12/2018</td>\n",
       "      <td>Active</td>\n",
       "      <td>Active</td>\n",
       "      <td>Active</td>\n",
       "    </tr>\n",
       "    <tr>\n",
       "      <th>2</th>\n",
       "      <td>345278676547335</td>\n",
       "      <td>1122765445</td>\n",
       "      <td>James</td>\n",
       "      <td>214448883</td>\n",
       "      <td>45</td>\n",
       "      <td>Newyork</td>\n",
       "      <td>10005</td>\n",
       "      <td>5/25/2018</td>\n",
       "      <td>Active</td>\n",
       "      <td>Active</td>\n",
       "      <td>Active</td>\n",
       "    </tr>\n",
       "    <tr>\n",
       "      <th>3</th>\n",
       "      <td>345278686547336</td>\n",
       "      <td>10</td>\n",
       "      <td>Robert</td>\n",
       "      <td>214448884</td>\n",
       "      <td>62</td>\n",
       "      <td>Newyork</td>\n",
       "      <td>10006</td>\n",
       "      <td>11/5/2017</td>\n",
       "      <td>InActive</td>\n",
       "      <td>Active</td>\n",
       "      <td>Active</td>\n",
       "    </tr>\n",
       "    <tr>\n",
       "      <th>4</th>\n",
       "      <td>345278696547337</td>\n",
       "      <td>1590741891</td>\n",
       "      <td>Thomas</td>\n",
       "      <td>214448885</td>\n",
       "      <td>15</td>\n",
       "      <td>Newyork</td>\n",
       "      <td>10007</td>\n",
       "      <td>4/18/2017</td>\n",
       "      <td>Active</td>\n",
       "      <td>Active</td>\n",
       "      <td>Active</td>\n",
       "    </tr>\n",
       "    <tr>\n",
       "      <th>...</th>\n",
       "      <td>...</td>\n",
       "      <td>...</td>\n",
       "      <td>...</td>\n",
       "      <td>...</td>\n",
       "      <td>...</td>\n",
       "      <td>...</td>\n",
       "      <td>...</td>\n",
       "      <td>...</td>\n",
       "      <td>...</td>\n",
       "      <td>...</td>\n",
       "      <td>...</td>\n",
       "    </tr>\n",
       "    <tr>\n",
       "      <th>500</th>\n",
       "      <td>345283606547828</td>\n",
       "      <td>1526695270</td>\n",
       "      <td>Nicholos</td>\n",
       "      <td>214449376</td>\n",
       "      <td>33</td>\n",
       "      <td>Michigan</td>\n",
       "      <td>49735</td>\n",
       "      <td>12/9/2018</td>\n",
       "      <td>Active</td>\n",
       "      <td>Active</td>\n",
       "      <td>Active</td>\n",
       "    </tr>\n",
       "    <tr>\n",
       "      <th>501</th>\n",
       "      <td>345283616547829</td>\n",
       "      <td>1526695271</td>\n",
       "      <td>Samuel</td>\n",
       "      <td>214449377</td>\n",
       "      <td>23</td>\n",
       "      <td>Michigan</td>\n",
       "      <td>49735</td>\n",
       "      <td>12/10/2018</td>\n",
       "      <td>Active</td>\n",
       "      <td>Active</td>\n",
       "      <td>Active</td>\n",
       "    </tr>\n",
       "    <tr>\n",
       "      <th>502</th>\n",
       "      <td>345283626547830</td>\n",
       "      <td>1526695272</td>\n",
       "      <td>Jose</td>\n",
       "      <td>214449378</td>\n",
       "      <td>78</td>\n",
       "      <td>Michigan</td>\n",
       "      <td>49735</td>\n",
       "      <td>12/11/2018</td>\n",
       "      <td>Active</td>\n",
       "      <td>Active</td>\n",
       "      <td>Active</td>\n",
       "    </tr>\n",
       "    <tr>\n",
       "      <th>503</th>\n",
       "      <td>345283636547831</td>\n",
       "      <td>1526695273</td>\n",
       "      <td>Henry</td>\n",
       "      <td>214449379</td>\n",
       "      <td>68</td>\n",
       "      <td>Michigan</td>\n",
       "      <td>49735</td>\n",
       "      <td>12/12/2018</td>\n",
       "      <td>InActive</td>\n",
       "      <td>Active</td>\n",
       "      <td>Active</td>\n",
       "    </tr>\n",
       "    <tr>\n",
       "      <th>504</th>\n",
       "      <td>345283646547832</td>\n",
       "      <td>1526695274</td>\n",
       "      <td>Austin</td>\n",
       "      <td>214449380</td>\n",
       "      <td>57</td>\n",
       "      <td>Michigan</td>\n",
       "      <td>49735</td>\n",
       "      <td>12/13/2018</td>\n",
       "      <td>InActive</td>\n",
       "      <td>Active</td>\n",
       "      <td>Active</td>\n",
       "    </tr>\n",
       "  </tbody>\n",
       "</table>\n",
       "<p>505 rows × 11 columns</p>\n",
       "</div>"
      ],
      "text/plain": [
       "     SubscriberIdentityNumber  Phone Number Subscriber Name        SSN  \\\n",
       "0             345278656547333    1654788999            Mike  214448881   \n",
       "1             345278666547334    1888777222            John  214448882   \n",
       "2             345278676547335    1122765445           James  214448883   \n",
       "3             345278686547336            10          Robert  214448884   \n",
       "4             345278696547337    1590741891          Thomas  214448885   \n",
       "..                        ...           ...             ...        ...   \n",
       "500           345283606547828    1526695270        Nicholos  214449376   \n",
       "501           345283616547829    1526695271          Samuel  214449377   \n",
       "502           345283626547830    1526695272            Jose  214449378   \n",
       "503           345283636547831    1526695273           Henry  214449379   \n",
       "504           345283646547832    1526695274          Austin  214449380   \n",
       "\n",
       "     Subscriber Age     State  Zip Code SubscribedFromDate Internet Service  \\\n",
       "0                25   Arizona     85005          1/12/2018           Active   \n",
       "1                15   Florida     33130         12/12/2018           Active   \n",
       "2                45   Newyork     10005          5/25/2018           Active   \n",
       "3                62   Newyork     10006          11/5/2017         InActive   \n",
       "4                15   Newyork     10007          4/18/2017           Active   \n",
       "..              ...       ...       ...                ...              ...   \n",
       "500              33  Michigan     49735          12/9/2018           Active   \n",
       "501              23  Michigan     49735         12/10/2018           Active   \n",
       "502              78  Michigan     49735         12/11/2018           Active   \n",
       "503              68  Michigan     49735         12/12/2018         InActive   \n",
       "504              57  Michigan     49735         12/13/2018         InActive   \n",
       "\n",
       "    SMS Service Churn Status  \n",
       "0        Active       Active  \n",
       "1        Active       Active  \n",
       "2        Active       Active  \n",
       "3        Active       Active  \n",
       "4        Active       Active  \n",
       "..          ...          ...  \n",
       "500      Active       Active  \n",
       "501      Active       Active  \n",
       "502      Active       Active  \n",
       "503      Active       Active  \n",
       "504      Active       Active  \n",
       "\n",
       "[505 rows x 11 columns]"
      ]
     },
     "execution_count": 12,
     "metadata": {},
     "output_type": "execute_result"
    }
   ],
   "source": [
    "#drop rows or column consisting missing values.\n",
    "dfsubscribers.dropna(axis=0,how='any')"
   ]
  },
  {
   "cell_type": "markdown",
   "id": "b7b0f63c",
   "metadata": {},
   "source": [
    "# Duplicates----------"
   ]
  },
  {
   "cell_type": "code",
   "execution_count": 13,
   "id": "d93e1802",
   "metadata": {},
   "outputs": [
    {
     "data": {
      "text/plain": [
       "5"
      ]
     },
     "execution_count": 13,
     "metadata": {},
     "output_type": "execute_result"
    }
   ],
   "source": [
    "#Returns a count of duplicated records.\n",
    "dfsubscribers.duplicated(subset=None, keep='first').sum()"
   ]
  },
  {
   "cell_type": "code",
   "execution_count": 14,
   "id": "c11a510a",
   "metadata": {},
   "outputs": [
    {
     "data": {
      "text/plain": [
       "(505, 11)"
      ]
     },
     "execution_count": 14,
     "metadata": {},
     "output_type": "execute_result"
    }
   ],
   "source": [
    "#returns shape of Dataframe.\n",
    "dfsubscribers.shape"
   ]
  },
  {
   "cell_type": "code",
   "execution_count": 15,
   "id": "057ee618",
   "metadata": {},
   "outputs": [],
   "source": [
    "#To drop a duplicate records.\n",
    "dfsubscribers.drop_duplicates(subset=None, keep='first', inplace=True)"
   ]
  },
  {
   "cell_type": "code",
   "execution_count": 16,
   "id": "bd831943",
   "metadata": {},
   "outputs": [
    {
     "data": {
      "text/plain": [
       "(500, 11)"
      ]
     },
     "execution_count": 16,
     "metadata": {},
     "output_type": "execute_result"
    }
   ],
   "source": [
    "#returns shape of Dataframe.\n",
    "dfsubscribers.shape"
   ]
  },
  {
   "cell_type": "markdown",
   "id": "45811b71",
   "metadata": {},
   "source": [
    "# Noisy Data------------"
   ]
  },
  {
   "cell_type": "code",
   "execution_count": 17,
   "id": "f9953b59",
   "metadata": {},
   "outputs": [],
   "source": [
    "#Method to find a noisy Data in a dataFrame.\n",
    "zscore_PN=np.abs(stats.zscore(dfsubscribers['Phone Number']))"
   ]
  },
  {
   "cell_type": "code",
   "execution_count": 18,
   "id": "d890fdf3",
   "metadata": {},
   "outputs": [
    {
     "data": {
      "text/plain": [
       "(array([ 3,  5,  6, 13, 16], dtype=int64),)"
      ]
     },
     "execution_count": 18,
     "metadata": {},
     "output_type": "execute_result"
    }
   ],
   "source": [
    "#return rows containing noisy data. \n",
    "np.where(zscore_PN > 3)"
   ]
  },
  {
   "cell_type": "code",
   "execution_count": 19,
   "id": "9287f813",
   "metadata": {},
   "outputs": [
    {
     "data": {
      "text/plain": [
       "SubscriberIdentityNumber    345278686547336\n",
       "Phone Number                             10\n",
       "Subscriber Name                      Robert\n",
       "SSN                               214448884\n",
       "Subscriber Age                           62\n",
       "State                               Newyork\n",
       "Zip Code                              10006\n",
       "SubscribedFromDate                11/5/2017\n",
       "Internet Service                   InActive\n",
       "SMS Service                          Active\n",
       "Churn Status                         Active\n",
       "Name: 3, dtype: object"
      ]
     },
     "execution_count": 19,
     "metadata": {},
     "output_type": "execute_result"
    }
   ],
   "source": [
    "#Accesing particular Column Or rows or sub DataFrame With iloc.\n",
    "dfsubscribers.iloc[3]"
   ]
  },
  {
   "cell_type": "code",
   "execution_count": 20,
   "id": "90fdaa50",
   "metadata": {},
   "outputs": [],
   "source": [
    "#To Drop a List of Rows.\n",
    "dfsubscribers.drop([ 3,  5,  6, 13, 16], axis=0, inplace=True)"
   ]
  },
  {
   "cell_type": "code",
   "execution_count": 21,
   "id": "ef223900",
   "metadata": {},
   "outputs": [
    {
     "data": {
      "text/plain": [
       "(495, 11)"
      ]
     },
     "execution_count": 21,
     "metadata": {},
     "output_type": "execute_result"
    }
   ],
   "source": [
    "#returns shape of Dataframe.\n",
    "dfsubscribers.shape"
   ]
  },
  {
   "cell_type": "code",
   "execution_count": 22,
   "id": "4ec38013",
   "metadata": {},
   "outputs": [],
   "source": [
    "#To store a dataframe as per the file format.\n",
    "dfsubscribers.to_csv('processed_subscribersData.csv',encoding='utf-8',index=False)"
   ]
  },
  {
   "cell_type": "markdown",
   "id": "770e6b98",
   "metadata": {},
   "source": [
    "# #Transformation"
   ]
  },
  {
   "cell_type": "code",
   "execution_count": 23,
   "id": "58e8ca03",
   "metadata": {},
   "outputs": [],
   "source": [
    "#To read a CSV file.\n",
    "dfActivity=pd.read_csv('ActivityData.csv', header=None)"
   ]
  },
  {
   "cell_type": "code",
   "execution_count": 24,
   "id": "2f70c39d",
   "metadata": {},
   "outputs": [
    {
     "data": {
      "text/html": [
       "<div>\n",
       "<style scoped>\n",
       "    .dataframe tbody tr th:only-of-type {\n",
       "        vertical-align: middle;\n",
       "    }\n",
       "\n",
       "    .dataframe tbody tr th {\n",
       "        vertical-align: top;\n",
       "    }\n",
       "\n",
       "    .dataframe thead th {\n",
       "        text-align: right;\n",
       "    }\n",
       "</style>\n",
       "<table border=\"1\" class=\"dataframe\">\n",
       "  <thead>\n",
       "    <tr style=\"text-align: right;\">\n",
       "      <th></th>\n",
       "      <th>0</th>\n",
       "      <th>1</th>\n",
       "      <th>2</th>\n",
       "      <th>3</th>\n",
       "    </tr>\n",
       "  </thead>\n",
       "  <tbody>\n",
       "    <tr>\n",
       "      <th>0</th>\n",
       "      <td>1654788999-345278656547333</td>\n",
       "      <td>2.0</td>\n",
       "      <td>Phone Call-</td>\n",
       "      <td>NaN</td>\n",
       "    </tr>\n",
       "    <tr>\n",
       "      <th>1</th>\n",
       "      <td>1888777222-345278666547334</td>\n",
       "      <td>0.0</td>\n",
       "      <td>SMS-</td>\n",
       "      <td>Y</td>\n",
       "    </tr>\n",
       "    <tr>\n",
       "      <th>2</th>\n",
       "      <td>1122765445-345278676547335</td>\n",
       "      <td>10.0</td>\n",
       "      <td>Internet Data-</td>\n",
       "      <td>NaN</td>\n",
       "    </tr>\n",
       "    <tr>\n",
       "      <th>3</th>\n",
       "      <td>1356753668-345278686547336</td>\n",
       "      <td>1.0</td>\n",
       "      <td>Phone Call-111</td>\n",
       "      <td>NaN</td>\n",
       "    </tr>\n",
       "    <tr>\n",
       "      <th>4</th>\n",
       "      <td>1590741891-345278696547337</td>\n",
       "      <td>2.0</td>\n",
       "      <td>Phone Call-111</td>\n",
       "      <td>NaN</td>\n",
       "    </tr>\n",
       "  </tbody>\n",
       "</table>\n",
       "</div>"
      ],
      "text/plain": [
       "                            0     1               2    3\n",
       "0  1654788999-345278656547333   2.0     Phone Call-  NaN\n",
       "1  1888777222-345278666547334   0.0            SMS-    Y\n",
       "2  1122765445-345278676547335  10.0  Internet Data-  NaN\n",
       "3  1356753668-345278686547336   1.0  Phone Call-111  NaN\n",
       "4  1590741891-345278696547337   2.0  Phone Call-111  NaN"
      ]
     },
     "execution_count": 24,
     "metadata": {},
     "output_type": "execute_result"
    }
   ],
   "source": [
    "#print a topmost rows of dataframe.\n",
    "dfActivity.head()"
   ]
  },
  {
   "cell_type": "code",
   "execution_count": 25,
   "id": "49e187b9",
   "metadata": {},
   "outputs": [
    {
     "data": {
      "text/plain": [
       "(1000, 4)"
      ]
     },
     "execution_count": 25,
     "metadata": {},
     "output_type": "execute_result"
    }
   ],
   "source": [
    "#returns shape of Dataframe.\n",
    "dfActivity.shape"
   ]
  },
  {
   "cell_type": "code",
   "execution_count": 26,
   "id": "fdfb7a9b",
   "metadata": {},
   "outputs": [],
   "source": [
    "#This method is used to replace a vacant spaces with NaN.\n",
    "dfActivity.replace('',np.NaN, inplace=True)"
   ]
  },
  {
   "cell_type": "code",
   "execution_count": 27,
   "id": "b15f61ca",
   "metadata": {},
   "outputs": [
    {
     "data": {
      "text/plain": [
       "0      0\n",
       "1      0\n",
       "2      0\n",
       "3    980\n",
       "dtype: int64"
      ]
     },
     "execution_count": 27,
     "metadata": {},
     "output_type": "execute_result"
    }
   ],
   "source": [
    "#returns count of all NaN.\n",
    "dfActivity.isna().sum()"
   ]
  },
  {
   "cell_type": "code",
   "execution_count": 28,
   "id": "e132c44c",
   "metadata": {},
   "outputs": [],
   "source": [
    "#to drop a Missing values column.\n",
    "dfActivity.drop([3], axis=1,inplace=True)"
   ]
  },
  {
   "cell_type": "code",
   "execution_count": 29,
   "id": "1171ee6a",
   "metadata": {},
   "outputs": [
    {
     "data": {
      "text/plain": [
       "(1000, 3)"
      ]
     },
     "execution_count": 29,
     "metadata": {},
     "output_type": "execute_result"
    }
   ],
   "source": [
    "#returns shape of Dataframe.\n",
    "dfActivity.shape"
   ]
  },
  {
   "cell_type": "code",
   "execution_count": 30,
   "id": "f7643cc5",
   "metadata": {},
   "outputs": [
    {
     "data": {
      "text/html": [
       "<div>\n",
       "<style scoped>\n",
       "    .dataframe tbody tr th:only-of-type {\n",
       "        vertical-align: middle;\n",
       "    }\n",
       "\n",
       "    .dataframe tbody tr th {\n",
       "        vertical-align: top;\n",
       "    }\n",
       "\n",
       "    .dataframe thead th {\n",
       "        text-align: right;\n",
       "    }\n",
       "</style>\n",
       "<table border=\"1\" class=\"dataframe\">\n",
       "  <thead>\n",
       "    <tr style=\"text-align: right;\">\n",
       "      <th></th>\n",
       "      <th>0</th>\n",
       "      <th>1</th>\n",
       "      <th>2</th>\n",
       "    </tr>\n",
       "  </thead>\n",
       "  <tbody>\n",
       "    <tr>\n",
       "      <th>0</th>\n",
       "      <td>1654788999-345278656547333</td>\n",
       "      <td>2.0</td>\n",
       "      <td>Phone Call-</td>\n",
       "    </tr>\n",
       "    <tr>\n",
       "      <th>1</th>\n",
       "      <td>1888777222-345278666547334</td>\n",
       "      <td>0.0</td>\n",
       "      <td>SMS-</td>\n",
       "    </tr>\n",
       "    <tr>\n",
       "      <th>2</th>\n",
       "      <td>1122765445-345278676547335</td>\n",
       "      <td>10.0</td>\n",
       "      <td>Internet Data-</td>\n",
       "    </tr>\n",
       "    <tr>\n",
       "      <th>3</th>\n",
       "      <td>1356753668-345278686547336</td>\n",
       "      <td>1.0</td>\n",
       "      <td>Phone Call-111</td>\n",
       "    </tr>\n",
       "    <tr>\n",
       "      <th>4</th>\n",
       "      <td>1590741891-345278696547337</td>\n",
       "      <td>2.0</td>\n",
       "      <td>Phone Call-111</td>\n",
       "    </tr>\n",
       "  </tbody>\n",
       "</table>\n",
       "</div>"
      ],
      "text/plain": [
       "                            0     1               2\n",
       "0  1654788999-345278656547333   2.0     Phone Call-\n",
       "1  1888777222-345278666547334   0.0            SMS-\n",
       "2  1122765445-345278676547335  10.0  Internet Data-\n",
       "3  1356753668-345278686547336   1.0  Phone Call-111\n",
       "4  1590741891-345278696547337   2.0  Phone Call-111"
      ]
     },
     "execution_count": 30,
     "metadata": {},
     "output_type": "execute_result"
    }
   ],
   "source": [
    "#print a dataframe.\n",
    "dfActivity.head()"
   ]
  },
  {
   "cell_type": "code",
   "execution_count": 31,
   "id": "f33616f6",
   "metadata": {},
   "outputs": [],
   "source": [
    "#Attribute Labels as per the attribute features.\n",
    "dfActivity.columns=['Phone Number-Subscriber Identity Number','Duration','Activity-ErrorCode']"
   ]
  },
  {
   "cell_type": "code",
   "execution_count": 32,
   "id": "20708686",
   "metadata": {},
   "outputs": [
    {
     "data": {
      "text/html": [
       "<div>\n",
       "<style scoped>\n",
       "    .dataframe tbody tr th:only-of-type {\n",
       "        vertical-align: middle;\n",
       "    }\n",
       "\n",
       "    .dataframe tbody tr th {\n",
       "        vertical-align: top;\n",
       "    }\n",
       "\n",
       "    .dataframe thead th {\n",
       "        text-align: right;\n",
       "    }\n",
       "</style>\n",
       "<table border=\"1\" class=\"dataframe\">\n",
       "  <thead>\n",
       "    <tr style=\"text-align: right;\">\n",
       "      <th></th>\n",
       "      <th>Phone Number-Subscriber Identity Number</th>\n",
       "      <th>Duration</th>\n",
       "      <th>Activity-ErrorCode</th>\n",
       "    </tr>\n",
       "  </thead>\n",
       "  <tbody>\n",
       "    <tr>\n",
       "      <th>0</th>\n",
       "      <td>1654788999-345278656547333</td>\n",
       "      <td>2.0</td>\n",
       "      <td>Phone Call-</td>\n",
       "    </tr>\n",
       "    <tr>\n",
       "      <th>1</th>\n",
       "      <td>1888777222-345278666547334</td>\n",
       "      <td>0.0</td>\n",
       "      <td>SMS-</td>\n",
       "    </tr>\n",
       "    <tr>\n",
       "      <th>2</th>\n",
       "      <td>1122765445-345278676547335</td>\n",
       "      <td>10.0</td>\n",
       "      <td>Internet Data-</td>\n",
       "    </tr>\n",
       "    <tr>\n",
       "      <th>3</th>\n",
       "      <td>1356753668-345278686547336</td>\n",
       "      <td>1.0</td>\n",
       "      <td>Phone Call-111</td>\n",
       "    </tr>\n",
       "    <tr>\n",
       "      <th>4</th>\n",
       "      <td>1590741891-345278696547337</td>\n",
       "      <td>2.0</td>\n",
       "      <td>Phone Call-111</td>\n",
       "    </tr>\n",
       "  </tbody>\n",
       "</table>\n",
       "</div>"
      ],
      "text/plain": [
       "  Phone Number-Subscriber Identity Number  Duration Activity-ErrorCode\n",
       "0              1654788999-345278656547333       2.0        Phone Call-\n",
       "1              1888777222-345278666547334       0.0               SMS-\n",
       "2              1122765445-345278676547335      10.0     Internet Data-\n",
       "3              1356753668-345278686547336       1.0     Phone Call-111\n",
       "4              1590741891-345278696547337       2.0     Phone Call-111"
      ]
     },
     "execution_count": 32,
     "metadata": {},
     "output_type": "execute_result"
    }
   ],
   "source": [
    "#print a topmost rows.\n",
    "dfActivity.head()"
   ]
  },
  {
   "cell_type": "code",
   "execution_count": 33,
   "id": "41a7a6ff",
   "metadata": {},
   "outputs": [],
   "source": [
    "#Split a column features.\n",
    "dfActivity[['Phone Number','Subscriber Identity Number']]=dfActivity['Phone Number-Subscriber Identity Number'].str.split('-',n=1, expand=True)"
   ]
  },
  {
   "cell_type": "code",
   "execution_count": 34,
   "id": "4e6cba4b",
   "metadata": {},
   "outputs": [],
   "source": [
    "#Split a column features.\n",
    "dfActivity[['Activity','Error Code']]=dfActivity['Activity-ErrorCode'].str.split('-',n=1,expand=True)"
   ]
  },
  {
   "cell_type": "code",
   "execution_count": 35,
   "id": "943619a7",
   "metadata": {},
   "outputs": [
    {
     "data": {
      "text/html": [
       "<div>\n",
       "<style scoped>\n",
       "    .dataframe tbody tr th:only-of-type {\n",
       "        vertical-align: middle;\n",
       "    }\n",
       "\n",
       "    .dataframe tbody tr th {\n",
       "        vertical-align: top;\n",
       "    }\n",
       "\n",
       "    .dataframe thead th {\n",
       "        text-align: right;\n",
       "    }\n",
       "</style>\n",
       "<table border=\"1\" class=\"dataframe\">\n",
       "  <thead>\n",
       "    <tr style=\"text-align: right;\">\n",
       "      <th></th>\n",
       "      <th>Phone Number-Subscriber Identity Number</th>\n",
       "      <th>Duration</th>\n",
       "      <th>Activity-ErrorCode</th>\n",
       "      <th>Phone Number</th>\n",
       "      <th>Subscriber Identity Number</th>\n",
       "      <th>Activity</th>\n",
       "      <th>Error Code</th>\n",
       "    </tr>\n",
       "  </thead>\n",
       "  <tbody>\n",
       "    <tr>\n",
       "      <th>0</th>\n",
       "      <td>1654788999-345278656547333</td>\n",
       "      <td>2.0</td>\n",
       "      <td>Phone Call-</td>\n",
       "      <td>1654788999</td>\n",
       "      <td>345278656547333</td>\n",
       "      <td>Phone Call</td>\n",
       "      <td></td>\n",
       "    </tr>\n",
       "    <tr>\n",
       "      <th>1</th>\n",
       "      <td>1888777222-345278666547334</td>\n",
       "      <td>0.0</td>\n",
       "      <td>SMS-</td>\n",
       "      <td>1888777222</td>\n",
       "      <td>345278666547334</td>\n",
       "      <td>SMS</td>\n",
       "      <td></td>\n",
       "    </tr>\n",
       "    <tr>\n",
       "      <th>2</th>\n",
       "      <td>1122765445-345278676547335</td>\n",
       "      <td>10.0</td>\n",
       "      <td>Internet Data-</td>\n",
       "      <td>1122765445</td>\n",
       "      <td>345278676547335</td>\n",
       "      <td>Internet Data</td>\n",
       "      <td></td>\n",
       "    </tr>\n",
       "    <tr>\n",
       "      <th>3</th>\n",
       "      <td>1356753668-345278686547336</td>\n",
       "      <td>1.0</td>\n",
       "      <td>Phone Call-111</td>\n",
       "      <td>1356753668</td>\n",
       "      <td>345278686547336</td>\n",
       "      <td>Phone Call</td>\n",
       "      <td>111</td>\n",
       "    </tr>\n",
       "    <tr>\n",
       "      <th>4</th>\n",
       "      <td>1590741891-345278696547337</td>\n",
       "      <td>2.0</td>\n",
       "      <td>Phone Call-111</td>\n",
       "      <td>1590741891</td>\n",
       "      <td>345278696547337</td>\n",
       "      <td>Phone Call</td>\n",
       "      <td>111</td>\n",
       "    </tr>\n",
       "  </tbody>\n",
       "</table>\n",
       "</div>"
      ],
      "text/plain": [
       "  Phone Number-Subscriber Identity Number  Duration Activity-ErrorCode  \\\n",
       "0              1654788999-345278656547333       2.0        Phone Call-   \n",
       "1              1888777222-345278666547334       0.0               SMS-   \n",
       "2              1122765445-345278676547335      10.0     Internet Data-   \n",
       "3              1356753668-345278686547336       1.0     Phone Call-111   \n",
       "4              1590741891-345278696547337       2.0     Phone Call-111   \n",
       "\n",
       "  Phone Number Subscriber Identity Number       Activity Error Code  \n",
       "0   1654788999            345278656547333     Phone Call             \n",
       "1   1888777222            345278666547334            SMS             \n",
       "2   1122765445            345278676547335  Internet Data             \n",
       "3   1356753668            345278686547336     Phone Call        111  \n",
       "4   1590741891            345278696547337     Phone Call        111  "
      ]
     },
     "execution_count": 35,
     "metadata": {},
     "output_type": "execute_result"
    }
   ],
   "source": [
    "#print a topmost row to check.\n",
    "dfActivity.head()"
   ]
  },
  {
   "cell_type": "code",
   "execution_count": 36,
   "id": "68077757",
   "metadata": {},
   "outputs": [],
   "source": [
    "#Drop a previous unsplitted columns.\n",
    "dfActivity.drop(['Phone Number-Subscriber Identity Number','Activity-ErrorCode'],axis=1,inplace=True)"
   ]
  },
  {
   "cell_type": "code",
   "execution_count": 37,
   "id": "0ad9763c",
   "metadata": {},
   "outputs": [
    {
     "data": {
      "text/html": [
       "<div>\n",
       "<style scoped>\n",
       "    .dataframe tbody tr th:only-of-type {\n",
       "        vertical-align: middle;\n",
       "    }\n",
       "\n",
       "    .dataframe tbody tr th {\n",
       "        vertical-align: top;\n",
       "    }\n",
       "\n",
       "    .dataframe thead th {\n",
       "        text-align: right;\n",
       "    }\n",
       "</style>\n",
       "<table border=\"1\" class=\"dataframe\">\n",
       "  <thead>\n",
       "    <tr style=\"text-align: right;\">\n",
       "      <th></th>\n",
       "      <th>Duration</th>\n",
       "      <th>Phone Number</th>\n",
       "      <th>Subscriber Identity Number</th>\n",
       "      <th>Activity</th>\n",
       "      <th>Error Code</th>\n",
       "    </tr>\n",
       "  </thead>\n",
       "  <tbody>\n",
       "    <tr>\n",
       "      <th>0</th>\n",
       "      <td>2.0</td>\n",
       "      <td>1654788999</td>\n",
       "      <td>345278656547333</td>\n",
       "      <td>Phone Call</td>\n",
       "      <td></td>\n",
       "    </tr>\n",
       "    <tr>\n",
       "      <th>1</th>\n",
       "      <td>0.0</td>\n",
       "      <td>1888777222</td>\n",
       "      <td>345278666547334</td>\n",
       "      <td>SMS</td>\n",
       "      <td></td>\n",
       "    </tr>\n",
       "    <tr>\n",
       "      <th>2</th>\n",
       "      <td>10.0</td>\n",
       "      <td>1122765445</td>\n",
       "      <td>345278676547335</td>\n",
       "      <td>Internet Data</td>\n",
       "      <td></td>\n",
       "    </tr>\n",
       "    <tr>\n",
       "      <th>3</th>\n",
       "      <td>1.0</td>\n",
       "      <td>1356753668</td>\n",
       "      <td>345278686547336</td>\n",
       "      <td>Phone Call</td>\n",
       "      <td>111</td>\n",
       "    </tr>\n",
       "    <tr>\n",
       "      <th>4</th>\n",
       "      <td>2.0</td>\n",
       "      <td>1590741891</td>\n",
       "      <td>345278696547337</td>\n",
       "      <td>Phone Call</td>\n",
       "      <td>111</td>\n",
       "    </tr>\n",
       "  </tbody>\n",
       "</table>\n",
       "</div>"
      ],
      "text/plain": [
       "   Duration Phone Number Subscriber Identity Number       Activity Error Code\n",
       "0       2.0   1654788999            345278656547333     Phone Call           \n",
       "1       0.0   1888777222            345278666547334            SMS           \n",
       "2      10.0   1122765445            345278676547335  Internet Data           \n",
       "3       1.0   1356753668            345278686547336     Phone Call        111\n",
       "4       2.0   1590741891            345278696547337     Phone Call        111"
      ]
     },
     "execution_count": 37,
     "metadata": {},
     "output_type": "execute_result"
    }
   ],
   "source": [
    "#To print a dataframe.\n",
    "dfActivity.head()"
   ]
  },
  {
   "cell_type": "code",
   "execution_count": 38,
   "id": "f04d9707",
   "metadata": {},
   "outputs": [],
   "source": [
    "#replace a vacant spaces with NaN Values.\n",
    "dfActivity.replace('', np.NaN, inplace=True)"
   ]
  },
  {
   "cell_type": "code",
   "execution_count": 39,
   "id": "30565a84",
   "metadata": {},
   "outputs": [
    {
     "data": {
      "text/plain": [
       "Duration                        0\n",
       "Phone Number                    0\n",
       "Subscriber Identity Number      0\n",
       "Activity                        0\n",
       "Error Code                    870\n",
       "dtype: int64"
      ]
     },
     "execution_count": 39,
     "metadata": {},
     "output_type": "execute_result"
    }
   ],
   "source": [
    "#To count total missing values.\n",
    "dfActivity.isna().sum()"
   ]
  },
  {
   "cell_type": "code",
   "execution_count": 40,
   "id": "8b923168",
   "metadata": {},
   "outputs": [],
   "source": [
    "#replace a missing values with value-0.\n",
    "dfActivity['Error Code'].fillna(0, inplace=True)"
   ]
  },
  {
   "cell_type": "code",
   "execution_count": 41,
   "id": "ec5a24d9",
   "metadata": {},
   "outputs": [
    {
     "data": {
      "text/html": [
       "<div>\n",
       "<style scoped>\n",
       "    .dataframe tbody tr th:only-of-type {\n",
       "        vertical-align: middle;\n",
       "    }\n",
       "\n",
       "    .dataframe tbody tr th {\n",
       "        vertical-align: top;\n",
       "    }\n",
       "\n",
       "    .dataframe thead th {\n",
       "        text-align: right;\n",
       "    }\n",
       "</style>\n",
       "<table border=\"1\" class=\"dataframe\">\n",
       "  <thead>\n",
       "    <tr style=\"text-align: right;\">\n",
       "      <th></th>\n",
       "      <th>Duration</th>\n",
       "      <th>Phone Number</th>\n",
       "      <th>Subscriber Identity Number</th>\n",
       "      <th>Activity</th>\n",
       "      <th>Error Code</th>\n",
       "    </tr>\n",
       "  </thead>\n",
       "  <tbody>\n",
       "    <tr>\n",
       "      <th>0</th>\n",
       "      <td>2.0</td>\n",
       "      <td>1654788999</td>\n",
       "      <td>345278656547333</td>\n",
       "      <td>Phone Call</td>\n",
       "      <td>0</td>\n",
       "    </tr>\n",
       "    <tr>\n",
       "      <th>1</th>\n",
       "      <td>0.0</td>\n",
       "      <td>1888777222</td>\n",
       "      <td>345278666547334</td>\n",
       "      <td>SMS</td>\n",
       "      <td>0</td>\n",
       "    </tr>\n",
       "    <tr>\n",
       "      <th>2</th>\n",
       "      <td>10.0</td>\n",
       "      <td>1122765445</td>\n",
       "      <td>345278676547335</td>\n",
       "      <td>Internet Data</td>\n",
       "      <td>0</td>\n",
       "    </tr>\n",
       "    <tr>\n",
       "      <th>3</th>\n",
       "      <td>1.0</td>\n",
       "      <td>1356753668</td>\n",
       "      <td>345278686547336</td>\n",
       "      <td>Phone Call</td>\n",
       "      <td>111</td>\n",
       "    </tr>\n",
       "    <tr>\n",
       "      <th>4</th>\n",
       "      <td>2.0</td>\n",
       "      <td>1590741891</td>\n",
       "      <td>345278696547337</td>\n",
       "      <td>Phone Call</td>\n",
       "      <td>111</td>\n",
       "    </tr>\n",
       "  </tbody>\n",
       "</table>\n",
       "</div>"
      ],
      "text/plain": [
       "   Duration Phone Number Subscriber Identity Number       Activity Error Code\n",
       "0       2.0   1654788999            345278656547333     Phone Call          0\n",
       "1       0.0   1888777222            345278666547334            SMS          0\n",
       "2      10.0   1122765445            345278676547335  Internet Data          0\n",
       "3       1.0   1356753668            345278686547336     Phone Call        111\n",
       "4       2.0   1590741891            345278696547337     Phone Call        111"
      ]
     },
     "execution_count": 41,
     "metadata": {},
     "output_type": "execute_result"
    }
   ],
   "source": [
    "dfActivity.head()"
   ]
  },
  {
   "cell_type": "code",
   "execution_count": 42,
   "id": "12d86ab4",
   "metadata": {},
   "outputs": [],
   "source": [
    "dfActivity.to_csv('processed_ActivityData.csv',index=False)"
   ]
  }
 ],
 "metadata": {
  "kernelspec": {
   "display_name": "Python 3 (ipykernel)",
   "language": "python",
   "name": "python3"
  },
  "language_info": {
   "codemirror_mode": {
    "name": "ipython",
    "version": 3
   },
   "file_extension": ".py",
   "mimetype": "text/x-python",
   "name": "python",
   "nbconvert_exporter": "python",
   "pygments_lexer": "ipython3",
   "version": "3.10.6"
  }
 },
 "nbformat": 4,
 "nbformat_minor": 5
}
